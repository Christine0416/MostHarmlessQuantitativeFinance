{
 "cells": [
  {
   "cell_type": "code",
   "execution_count": 1,
   "metadata": {},
   "outputs": [
    {
     "data": {
      "text/html": [
       "<div>\n",
       "<style>\n",
       "    .dataframe thead tr:only-child th {\n",
       "        text-align: right;\n",
       "    }\n",
       "\n",
       "    .dataframe thead th {\n",
       "        text-align: left;\n",
       "    }\n",
       "\n",
       "    .dataframe tbody tr th {\n",
       "        vertical-align: top;\n",
       "    }\n",
       "</style>\n",
       "<table border=\"1\" class=\"dataframe\">\n",
       "  <thead>\n",
       "    <tr style=\"text-align: right;\">\n",
       "      <th></th>\n",
       "      <th>SP500</th>\n",
       "      <th>USDRMB</th>\n",
       "      <th>SHINDEX</th>\n",
       "      <th>SZINDEX</th>\n",
       "      <th>USDINDEX</th>\n",
       "      <th>EURUSD</th>\n",
       "    </tr>\n",
       "    <tr>\n",
       "      <th>Date</th>\n",
       "      <th></th>\n",
       "      <th></th>\n",
       "      <th></th>\n",
       "      <th></th>\n",
       "      <th></th>\n",
       "      <th></th>\n",
       "    </tr>\n",
       "  </thead>\n",
       "  <tbody>\n",
       "    <tr>\n",
       "      <th>2000-01-03 00:00:00</th>\n",
       "      <td>1455.22</td>\n",
       "      <td>8.2795</td>\n",
       "      <td>NaN</td>\n",
       "      <td>NaN</td>\n",
       "      <td>114.4743</td>\n",
       "      <td>1.0273</td>\n",
       "    </tr>\n",
       "    <tr>\n",
       "      <th>2000-01-04 00:00:00</th>\n",
       "      <td>1399.42</td>\n",
       "      <td>8.2798</td>\n",
       "      <td>1406.371</td>\n",
       "      <td>3497.060</td>\n",
       "      <td>114.3583</td>\n",
       "      <td>1.0295</td>\n",
       "    </tr>\n",
       "    <tr>\n",
       "      <th>2000-01-05 00:00:00</th>\n",
       "      <td>1402.11</td>\n",
       "      <td>8.2799</td>\n",
       "      <td>1409.682</td>\n",
       "      <td>3486.285</td>\n",
       "      <td>114.6221</td>\n",
       "      <td>1.0316</td>\n",
       "    </tr>\n",
       "  </tbody>\n",
       "</table>\n",
       "</div>"
      ],
      "text/plain": [
       "                       SP500  USDRMB   SHINDEX   SZINDEX  USDINDEX  EURUSD\n",
       "Date                                                                      \n",
       "2000-01-03 00:00:00  1455.22  8.2795       NaN       NaN  114.4743  1.0273\n",
       "2000-01-04 00:00:00  1399.42  8.2798  1406.371  3497.060  114.3583  1.0295\n",
       "2000-01-05 00:00:00  1402.11  8.2799  1409.682  3486.285  114.6221  1.0316"
      ]
     },
     "execution_count": 1,
     "metadata": {},
     "output_type": "execute_result"
    }
   ],
   "source": [
    "import pandas as pd\n",
    "import numpy as np\n",
    "%matplotlib inline\n",
    "df = pd.read_excel(\"yyf_prices.xls\",parse_dates=[0])\n",
    "#df = pd.read_csv(\"yyf_prices.csv\",parse_dates=[0])\n",
    "df.index=df.pop('Date')\n",
    "df.head(3)\n"
   ]
  },
  {
   "cell_type": "code",
   "execution_count": 2,
   "metadata": {},
   "outputs": [
    {
     "data": {
      "text/html": [
       "<div>\n",
       "<style>\n",
       "    .dataframe thead tr:only-child th {\n",
       "        text-align: right;\n",
       "    }\n",
       "\n",
       "    .dataframe thead th {\n",
       "        text-align: left;\n",
       "    }\n",
       "\n",
       "    .dataframe tbody tr th {\n",
       "        vertical-align: top;\n",
       "    }\n",
       "</style>\n",
       "<table border=\"1\" class=\"dataframe\">\n",
       "  <thead>\n",
       "    <tr style=\"text-align: right;\">\n",
       "      <th></th>\n",
       "      <th>SP500</th>\n",
       "      <th>USDRMB</th>\n",
       "      <th>SHINDEX</th>\n",
       "      <th>SZINDEX</th>\n",
       "      <th>USDINDEX</th>\n",
       "      <th>EURUSD</th>\n",
       "    </tr>\n",
       "    <tr>\n",
       "      <th>Date</th>\n",
       "      <th></th>\n",
       "      <th></th>\n",
       "      <th></th>\n",
       "      <th></th>\n",
       "      <th></th>\n",
       "      <th></th>\n",
       "    </tr>\n",
       "  </thead>\n",
       "  <tbody>\n",
       "    <tr>\n",
       "      <th>2017-08-23 00:00:00</th>\n",
       "      <td>2444.04</td>\n",
       "      <td>6.6633</td>\n",
       "      <td>3287.7049</td>\n",
       "      <td>10619.3368</td>\n",
       "      <td>NaN</td>\n",
       "      <td>1.1807</td>\n",
       "    </tr>\n",
       "    <tr>\n",
       "      <th>2017-08-24 00:00:00</th>\n",
       "      <td>2438.97</td>\n",
       "      <td>6.6525</td>\n",
       "      <td>3271.5117</td>\n",
       "      <td>10552.9621</td>\n",
       "      <td>NaN</td>\n",
       "      <td>1.1799</td>\n",
       "    </tr>\n",
       "    <tr>\n",
       "      <th>2017-08-25 00:00:00</th>\n",
       "      <td>2443.05</td>\n",
       "      <td>6.6579</td>\n",
       "      <td>3331.5221</td>\n",
       "      <td>10659.0085</td>\n",
       "      <td>NaN</td>\n",
       "      <td>1.1923</td>\n",
       "    </tr>\n",
       "    <tr>\n",
       "      <th>NaN</th>\n",
       "      <td>NaN</td>\n",
       "      <td>NaN</td>\n",
       "      <td>NaN</td>\n",
       "      <td>NaN</td>\n",
       "      <td>NaN</td>\n",
       "      <td>NaN</td>\n",
       "    </tr>\n",
       "    <tr>\n",
       "      <th>数据来源:Wind资讯</th>\n",
       "      <td>NaN</td>\n",
       "      <td>NaN</td>\n",
       "      <td>NaN</td>\n",
       "      <td>NaN</td>\n",
       "      <td>NaN</td>\n",
       "      <td>NaN</td>\n",
       "    </tr>\n",
       "  </tbody>\n",
       "</table>\n",
       "</div>"
      ],
      "text/plain": [
       "                       SP500  USDRMB    SHINDEX     SZINDEX  USDINDEX  EURUSD\n",
       "Date                                                                         \n",
       "2017-08-23 00:00:00  2444.04  6.6633  3287.7049  10619.3368       NaN  1.1807\n",
       "2017-08-24 00:00:00  2438.97  6.6525  3271.5117  10552.9621       NaN  1.1799\n",
       "2017-08-25 00:00:00  2443.05  6.6579  3331.5221  10659.0085       NaN  1.1923\n",
       "NaN                      NaN     NaN        NaN         NaN       NaN     NaN\n",
       "数据来源:Wind资讯              NaN     NaN        NaN         NaN       NaN     NaN"
      ]
     },
     "execution_count": 2,
     "metadata": {},
     "output_type": "execute_result"
    }
   ],
   "source": [
    "df.tail()"
   ]
  },
  {
   "cell_type": "code",
   "execution_count": 3,
   "metadata": {},
   "outputs": [
    {
     "name": "stdout",
     "output_type": "stream",
     "text": [
      "<class 'pandas.core.frame.DataFrame'>\n",
      "Index: 4614 entries, 2000-01-03 00:00:00 to 数据来源:Wind资讯\n",
      "Data columns (total 6 columns):\n",
      "SP500       4441 non-null float64\n",
      "USDRMB      4305 non-null float64\n",
      "SHINDEX     4274 non-null float64\n",
      "SZINDEX     4274 non-null float64\n",
      "USDINDEX    4445 non-null float64\n",
      "EURUSD      4592 non-null float64\n",
      "dtypes: float64(6)\n",
      "memory usage: 252.3+ KB\n"
     ]
    }
   ],
   "source": [
    "df.info()"
   ]
  },
  {
   "cell_type": "code",
   "execution_count": 4,
   "metadata": {},
   "outputs": [
    {
     "data": {
      "text/html": [
       "<div>\n",
       "<style>\n",
       "    .dataframe thead tr:only-child th {\n",
       "        text-align: right;\n",
       "    }\n",
       "\n",
       "    .dataframe thead th {\n",
       "        text-align: left;\n",
       "    }\n",
       "\n",
       "    .dataframe tbody tr th {\n",
       "        vertical-align: top;\n",
       "    }\n",
       "</style>\n",
       "<table border=\"1\" class=\"dataframe\">\n",
       "  <thead>\n",
       "    <tr style=\"text-align: right;\">\n",
       "      <th></th>\n",
       "      <th>SP500</th>\n",
       "      <th>USDRMB</th>\n",
       "      <th>SHINDEX</th>\n",
       "      <th>SZINDEX</th>\n",
       "      <th>USDINDEX</th>\n",
       "      <th>EURUSD</th>\n",
       "    </tr>\n",
       "  </thead>\n",
       "  <tbody>\n",
       "    <tr>\n",
       "      <th>count</th>\n",
       "      <td>4441.000000</td>\n",
       "      <td>4305.000000</td>\n",
       "      <td>4274.000000</td>\n",
       "      <td>4274.000000</td>\n",
       "      <td>4445.000000</td>\n",
       "      <td>4592.000000</td>\n",
       "    </tr>\n",
       "    <tr>\n",
       "      <th>mean</th>\n",
       "      <td>1413.358131</td>\n",
       "      <td>7.261654</td>\n",
       "      <td>2390.367939</td>\n",
       "      <td>7936.923814</td>\n",
       "      <td>110.963164</td>\n",
       "      <td>1.216617</td>\n",
       "    </tr>\n",
       "    <tr>\n",
       "      <th>std</th>\n",
       "      <td>402.768955</td>\n",
       "      <td>0.851344</td>\n",
       "      <td>915.039787</td>\n",
       "      <td>3992.749709</td>\n",
       "      <td>10.060243</td>\n",
       "      <td>0.175403</td>\n",
       "    </tr>\n",
       "    <tr>\n",
       "      <th>min</th>\n",
       "      <td>676.530000</td>\n",
       "      <td>6.093000</td>\n",
       "      <td>1011.499000</td>\n",
       "      <td>2622.026000</td>\n",
       "      <td>93.757100</td>\n",
       "      <td>0.826800</td>\n",
       "    </tr>\n",
       "    <tr>\n",
       "      <th>25%</th>\n",
       "      <td>1131.420000</td>\n",
       "      <td>6.461600</td>\n",
       "      <td>1667.578750</td>\n",
       "      <td>3820.805250</td>\n",
       "      <td>101.847500</td>\n",
       "      <td>1.099875</td>\n",
       "    </tr>\n",
       "    <tr>\n",
       "      <th>50%</th>\n",
       "      <td>1309.720000</td>\n",
       "      <td>6.879800</td>\n",
       "      <td>2199.461000</td>\n",
       "      <td>8235.478000</td>\n",
       "      <td>110.025600</td>\n",
       "      <td>1.254100</td>\n",
       "    </tr>\n",
       "    <tr>\n",
       "      <th>75%</th>\n",
       "      <td>1562.170000</td>\n",
       "      <td>8.276600</td>\n",
       "      <td>2976.678750</td>\n",
       "      <td>10701.904750</td>\n",
       "      <td>119.976400</td>\n",
       "      <td>1.343250</td>\n",
       "    </tr>\n",
       "    <tr>\n",
       "      <th>max</th>\n",
       "      <td>2480.910000</td>\n",
       "      <td>8.279900</td>\n",
       "      <td>6092.057000</td>\n",
       "      <td>19531.155000</td>\n",
       "      <td>130.242000</td>\n",
       "      <td>1.599800</td>\n",
       "    </tr>\n",
       "  </tbody>\n",
       "</table>\n",
       "</div>"
      ],
      "text/plain": [
       "             SP500       USDRMB      SHINDEX       SZINDEX     USDINDEX  \\\n",
       "count  4441.000000  4305.000000  4274.000000   4274.000000  4445.000000   \n",
       "mean   1413.358131     7.261654  2390.367939   7936.923814   110.963164   \n",
       "std     402.768955     0.851344   915.039787   3992.749709    10.060243   \n",
       "min     676.530000     6.093000  1011.499000   2622.026000    93.757100   \n",
       "25%    1131.420000     6.461600  1667.578750   3820.805250   101.847500   \n",
       "50%    1309.720000     6.879800  2199.461000   8235.478000   110.025600   \n",
       "75%    1562.170000     8.276600  2976.678750  10701.904750   119.976400   \n",
       "max    2480.910000     8.279900  6092.057000  19531.155000   130.242000   \n",
       "\n",
       "            EURUSD  \n",
       "count  4592.000000  \n",
       "mean      1.216617  \n",
       "std       0.175403  \n",
       "min       0.826800  \n",
       "25%       1.099875  \n",
       "50%       1.254100  \n",
       "75%       1.343250  \n",
       "max       1.599800  "
      ]
     },
     "execution_count": 4,
     "metadata": {},
     "output_type": "execute_result"
    }
   ],
   "source": [
    "df.describe()"
   ]
  },
  {
   "cell_type": "code",
   "execution_count": 5,
   "metadata": {},
   "outputs": [
    {
     "data": {
      "text/html": [
       "<div>\n",
       "<style>\n",
       "    .dataframe thead tr:only-child th {\n",
       "        text-align: right;\n",
       "    }\n",
       "\n",
       "    .dataframe thead th {\n",
       "        text-align: left;\n",
       "    }\n",
       "\n",
       "    .dataframe tbody tr th {\n",
       "        vertical-align: top;\n",
       "    }\n",
       "</style>\n",
       "<table border=\"1\" class=\"dataframe\">\n",
       "  <thead>\n",
       "    <tr style=\"text-align: right;\">\n",
       "      <th></th>\n",
       "      <th>SP500</th>\n",
       "      <th>USDRMB</th>\n",
       "      <th>SHINDEX</th>\n",
       "      <th>SZINDEX</th>\n",
       "      <th>USDINDEX</th>\n",
       "      <th>EURUSD</th>\n",
       "    </tr>\n",
       "    <tr>\n",
       "      <th>Date</th>\n",
       "      <th></th>\n",
       "      <th></th>\n",
       "      <th></th>\n",
       "      <th></th>\n",
       "      <th></th>\n",
       "      <th></th>\n",
       "    </tr>\n",
       "  </thead>\n",
       "  <tbody>\n",
       "    <tr>\n",
       "      <th>2000-01-03 00:00:00</th>\n",
       "      <td>1455.22</td>\n",
       "      <td>8.2795</td>\n",
       "      <td>NaN</td>\n",
       "      <td>NaN</td>\n",
       "      <td>114.4743</td>\n",
       "      <td>1.0273</td>\n",
       "    </tr>\n",
       "    <tr>\n",
       "      <th>2000-01-04 00:00:00</th>\n",
       "      <td>1399.42</td>\n",
       "      <td>8.2798</td>\n",
       "      <td>1406.371</td>\n",
       "      <td>3497.060</td>\n",
       "      <td>114.3583</td>\n",
       "      <td>1.0295</td>\n",
       "    </tr>\n",
       "    <tr>\n",
       "      <th>2000-01-05 00:00:00</th>\n",
       "      <td>1402.11</td>\n",
       "      <td>8.2799</td>\n",
       "      <td>1409.682</td>\n",
       "      <td>3486.285</td>\n",
       "      <td>114.6221</td>\n",
       "      <td>1.0316</td>\n",
       "    </tr>\n",
       "    <tr>\n",
       "      <th>2000-01-06 00:00:00</th>\n",
       "      <td>1403.45</td>\n",
       "      <td>8.2798</td>\n",
       "      <td>1463.942</td>\n",
       "      <td>3655.199</td>\n",
       "      <td>115.1688</td>\n",
       "      <td>1.0295</td>\n",
       "    </tr>\n",
       "    <tr>\n",
       "      <th>2000-01-07 00:00:00</th>\n",
       "      <td>1441.47</td>\n",
       "      <td>8.2797</td>\n",
       "      <td>1516.604</td>\n",
       "      <td>3828.040</td>\n",
       "      <td>114.9098</td>\n",
       "      <td>1.0280</td>\n",
       "    </tr>\n",
       "  </tbody>\n",
       "</table>\n",
       "</div>"
      ],
      "text/plain": [
       "                       SP500  USDRMB   SHINDEX   SZINDEX  USDINDEX  EURUSD\n",
       "Date                                                                      \n",
       "2000-01-03 00:00:00  1455.22  8.2795       NaN       NaN  114.4743  1.0273\n",
       "2000-01-04 00:00:00  1399.42  8.2798  1406.371  3497.060  114.3583  1.0295\n",
       "2000-01-05 00:00:00  1402.11  8.2799  1409.682  3486.285  114.6221  1.0316\n",
       "2000-01-06 00:00:00  1403.45  8.2798  1463.942  3655.199  115.1688  1.0295\n",
       "2000-01-07 00:00:00  1441.47  8.2797  1516.604  3828.040  114.9098  1.0280"
      ]
     },
     "execution_count": 5,
     "metadata": {},
     "output_type": "execute_result"
    }
   ],
   "source": [
    "df[:5]"
   ]
  },
  {
   "cell_type": "code",
   "execution_count": 6,
   "metadata": {},
   "outputs": [
    {
     "data": {
      "text/plain": [
       "SP500       4441\n",
       "USDRMB      4305\n",
       "SHINDEX     4274\n",
       "SZINDEX     4274\n",
       "USDINDEX    4445\n",
       "EURUSD      4592\n",
       "dtype: int64"
      ]
     },
     "execution_count": 6,
     "metadata": {},
     "output_type": "execute_result"
    }
   ],
   "source": [
    "df.count()"
   ]
  },
  {
   "cell_type": "code",
   "execution_count": 7,
   "metadata": {},
   "outputs": [
    {
     "data": {
      "text/plain": [
       "SP500      -0.185599\n",
       "USDRMB     -1.690454\n",
       "SHINDEX     1.389385\n",
       "SZINDEX    -0.721929\n",
       "USDINDEX   -1.272336\n",
       "EURUSD     -0.588045\n",
       "dtype: float64"
      ]
     },
     "execution_count": 7,
     "metadata": {},
     "output_type": "execute_result"
    }
   ],
   "source": [
    "df.kurt()"
   ]
  },
  {
   "cell_type": "code",
   "execution_count": 8,
   "metadata": {},
   "outputs": [
    {
     "data": {
      "text/plain": [
       "<matplotlib.axes._subplots.AxesSubplot at 0x21c176636a0>"
      ]
     },
     "execution_count": 8,
     "metadata": {},
     "output_type": "execute_result"
    },
    {
     "data": {
      "image/png": "[encoded data removed]",
      "text/plain": [
       "<Figure size 600x400 with 1 Axes>"
      ]
     },
     "metadata": {},
     "output_type": "display_data"
    }
   ],
   "source": [
    "df.plot()"
   ]
  },
  {
   "cell_type": "code",
   "execution_count": 9,
   "metadata": {},
   "outputs": [
    {
     "data": {
      "text/plain": [
       "<matplotlib.axes._subplots.AxesSubplot at 0x21c1780e470>"
      ]
     },
     "execution_count": 9,
     "metadata": {},
     "output_type": "execute_result"
    },
    {
     "data": {
      "image/png": "[encoded data removed]",
      "text/plain": [
       "<Figure size 600x400 with 1 Axes>"
      ]
     },
     "metadata": {},
     "output_type": "display_data"
    }
   ],
   "source": [
    "df.SP500.plot(legend='SP500')\n",
    "df.SHINDEX.plot(legend='SHINDEX')\n",
    "df.SZINDEX.plot(legend='SZINDEX')\n"
   ]
  },
  {
   "cell_type": "code",
   "execution_count": 10,
   "metadata": {},
   "outputs": [
    {
     "data": {
      "text/html": [
       "<div>\n",
       "<style>\n",
       "    .dataframe thead tr:only-child th {\n",
       "        text-align: right;\n",
       "    }\n",
       "\n",
       "    .dataframe thead th {\n",
       "        text-align: left;\n",
       "    }\n",
       "\n",
       "    .dataframe tbody tr th {\n",
       "        vertical-align: top;\n",
       "    }\n",
       "</style>\n",
       "<table border=\"1\" class=\"dataframe\">\n",
       "  <thead>\n",
       "    <tr style=\"text-align: right;\">\n",
       "      <th></th>\n",
       "      <th>SP500</th>\n",
       "      <th>USDRMB</th>\n",
       "      <th>SHINDEX</th>\n",
       "      <th>SZINDEX</th>\n",
       "      <th>USDINDEX</th>\n",
       "      <th>EURUSD</th>\n",
       "    </tr>\n",
       "    <tr>\n",
       "      <th>Date</th>\n",
       "      <th></th>\n",
       "      <th></th>\n",
       "      <th></th>\n",
       "      <th></th>\n",
       "      <th></th>\n",
       "      <th></th>\n",
       "    </tr>\n",
       "  </thead>\n",
       "  <tbody>\n",
       "    <tr>\n",
       "      <th>2000-01-04 00:00:00</th>\n",
       "      <td>1399.42</td>\n",
       "      <td>8.2798</td>\n",
       "      <td>1406.371</td>\n",
       "      <td>3497.060</td>\n",
       "      <td>114.3583</td>\n",
       "      <td>1.0295</td>\n",
       "    </tr>\n",
       "    <tr>\n",
       "      <th>2000-01-05 00:00:00</th>\n",
       "      <td>1402.11</td>\n",
       "      <td>8.2799</td>\n",
       "      <td>1409.682</td>\n",
       "      <td>3486.285</td>\n",
       "      <td>114.6221</td>\n",
       "      <td>1.0316</td>\n",
       "    </tr>\n",
       "    <tr>\n",
       "      <th>2000-01-06 00:00:00</th>\n",
       "      <td>1403.45</td>\n",
       "      <td>8.2798</td>\n",
       "      <td>1463.942</td>\n",
       "      <td>3655.199</td>\n",
       "      <td>115.1688</td>\n",
       "      <td>1.0295</td>\n",
       "    </tr>\n",
       "    <tr>\n",
       "      <th>2000-01-07 00:00:00</th>\n",
       "      <td>1441.47</td>\n",
       "      <td>8.2797</td>\n",
       "      <td>1516.604</td>\n",
       "      <td>3828.040</td>\n",
       "      <td>114.9098</td>\n",
       "      <td>1.0280</td>\n",
       "    </tr>\n",
       "    <tr>\n",
       "      <th>2000-01-10 00:00:00</th>\n",
       "      <td>1457.60</td>\n",
       "      <td>8.2794</td>\n",
       "      <td>1545.112</td>\n",
       "      <td>3921.484</td>\n",
       "      <td>114.9799</td>\n",
       "      <td>1.0253</td>\n",
       "    </tr>\n",
       "  </tbody>\n",
       "</table>\n",
       "</div>"
      ],
      "text/plain": [
       "                       SP500  USDRMB   SHINDEX   SZINDEX  USDINDEX  EURUSD\n",
       "Date                                                                      \n",
       "2000-01-04 00:00:00  1399.42  8.2798  1406.371  3497.060  114.3583  1.0295\n",
       "2000-01-05 00:00:00  1402.11  8.2799  1409.682  3486.285  114.6221  1.0316\n",
       "2000-01-06 00:00:00  1403.45  8.2798  1463.942  3655.199  115.1688  1.0295\n",
       "2000-01-07 00:00:00  1441.47  8.2797  1516.604  3828.040  114.9098  1.0280\n",
       "2000-01-10 00:00:00  1457.60  8.2794  1545.112  3921.484  114.9799  1.0253"
      ]
     },
     "execution_count": 10,
     "metadata": {},
     "output_type": "execute_result"
    }
   ],
   "source": [
    "new_df=df.dropna()\n",
    "new_df.head()"
   ]
  },
  {
   "cell_type": "code",
   "execution_count": 11,
   "metadata": {},
   "outputs": [
    {
     "data": {
      "text/plain": [
       "SP500       1441.4700\n",
       "USDRMB         8.2797\n",
       "SHINDEX     1516.6040\n",
       "SZINDEX     3828.0400\n",
       "USDINDEX     114.9098\n",
       "EURUSD         1.0280\n",
       "Name: 2000-01-07 00:00:00, dtype: float64"
      ]
     },
     "execution_count": 11,
     "metadata": {},
     "output_type": "execute_result"
    }
   ],
   "source": [
    "new_df.iloc[3]"
   ]
  },
  {
   "cell_type": "code",
   "execution_count": 12,
   "metadata": {},
   "outputs": [
    {
     "data": {
      "text/plain": [
       "Date\n",
       "2000-01-04 00:00:00    1.0295\n",
       "2000-01-05 00:00:00    1.0316\n",
       "2000-01-06 00:00:00    1.0295\n",
       "2000-01-07 00:00:00    1.0280\n",
       "2000-01-10 00:00:00    1.0253\n",
       "Name: EURUSD, dtype: float64"
      ]
     },
     "execution_count": 12,
     "metadata": {},
     "output_type": "execute_result"
    }
   ],
   "source": [
    "new_df.iloc[:,5].head()"
   ]
  },
  {
   "cell_type": "code",
   "execution_count": 13,
   "metadata": {},
   "outputs": [
    {
     "name": "stdout",
     "output_type": "stream",
     "text": [
      "<class 'pandas.core.frame.DataFrame'>\n",
      "Index: 1000 entries, 2000-01-06 00:00:00 to 2004-05-25 00:00:00\n",
      "Data columns (total 1 columns):\n",
      "tmp_df    1000 non-null float64\n",
      "dtypes: float64(1)\n",
      "memory usage: 15.6+ KB\n"
     ]
    }
   ],
   "source": [
    "tmp_data=np.random.randn(1000,1)\n",
    "tmp_data[:5]\n",
    "start_date= 2\n",
    "tmp_df = pd.DataFrame(tmp_data,index=new_df.index[start_date:start_date+1000],columns=['tmp_df'])\n",
    "tmp_df.info()"
   ]
  },
  {
   "cell_type": "code",
   "execution_count": 14,
   "metadata": {},
   "outputs": [
    {
     "name": "stderr",
     "output_type": "stream",
     "text": [
      "C:\\Anaconda3\\lib\\site-packages\\ipykernel\\__main__.py:1: SettingWithCopyWarning: \n",
      "A value is trying to be set on a copy of a slice from a DataFrame.\n",
      "Try using .loc[row_indexer,col_indexer] = value instead\n",
      "\n",
      "See the caveats in the documentation: http://pandas.pydata.org/pandas-docs/stable/indexing.html#indexing-view-versus-copy\n",
      "  if __name__ == '__main__':\n"
     ]
    },
    {
     "data": {
      "text/html": [
       "<div>\n",
       "<style>\n",
       "    .dataframe thead tr:only-child th {\n",
       "        text-align: right;\n",
       "    }\n",
       "\n",
       "    .dataframe thead th {\n",
       "        text-align: left;\n",
       "    }\n",
       "\n",
       "    .dataframe tbody tr th {\n",
       "        vertical-align: top;\n",
       "    }\n",
       "</style>\n",
       "<table border=\"1\" class=\"dataframe\">\n",
       "  <thead>\n",
       "    <tr style=\"text-align: right;\">\n",
       "      <th></th>\n",
       "      <th>SP500</th>\n",
       "      <th>USDRMB</th>\n",
       "      <th>SHINDEX</th>\n",
       "      <th>SZINDEX</th>\n",
       "      <th>USDINDEX</th>\n",
       "      <th>EURUSD</th>\n",
       "      <th>tmp_df</th>\n",
       "    </tr>\n",
       "    <tr>\n",
       "      <th>Date</th>\n",
       "      <th></th>\n",
       "      <th></th>\n",
       "      <th></th>\n",
       "      <th></th>\n",
       "      <th></th>\n",
       "      <th></th>\n",
       "      <th></th>\n",
       "    </tr>\n",
       "  </thead>\n",
       "  <tbody>\n",
       "    <tr>\n",
       "      <th>2000-01-04 00:00:00</th>\n",
       "      <td>1399.42</td>\n",
       "      <td>8.2798</td>\n",
       "      <td>1406.371</td>\n",
       "      <td>3497.060</td>\n",
       "      <td>114.3583</td>\n",
       "      <td>1.0295</td>\n",
       "      <td>NaN</td>\n",
       "    </tr>\n",
       "    <tr>\n",
       "      <th>2000-01-05 00:00:00</th>\n",
       "      <td>1402.11</td>\n",
       "      <td>8.2799</td>\n",
       "      <td>1409.682</td>\n",
       "      <td>3486.285</td>\n",
       "      <td>114.6221</td>\n",
       "      <td>1.0316</td>\n",
       "      <td>NaN</td>\n",
       "    </tr>\n",
       "    <tr>\n",
       "      <th>2000-01-06 00:00:00</th>\n",
       "      <td>1403.45</td>\n",
       "      <td>8.2798</td>\n",
       "      <td>1463.942</td>\n",
       "      <td>3655.199</td>\n",
       "      <td>115.1688</td>\n",
       "      <td>1.0295</td>\n",
       "      <td>-0.218224</td>\n",
       "    </tr>\n",
       "    <tr>\n",
       "      <th>2000-01-07 00:00:00</th>\n",
       "      <td>1441.47</td>\n",
       "      <td>8.2797</td>\n",
       "      <td>1516.604</td>\n",
       "      <td>3828.040</td>\n",
       "      <td>114.9098</td>\n",
       "      <td>1.0280</td>\n",
       "      <td>1.106715</td>\n",
       "    </tr>\n",
       "    <tr>\n",
       "      <th>2000-01-10 00:00:00</th>\n",
       "      <td>1457.60</td>\n",
       "      <td>8.2794</td>\n",
       "      <td>1545.112</td>\n",
       "      <td>3921.484</td>\n",
       "      <td>114.9799</td>\n",
       "      <td>1.0253</td>\n",
       "      <td>0.235592</td>\n",
       "    </tr>\n",
       "  </tbody>\n",
       "</table>\n",
       "</div>"
      ],
      "text/plain": [
       "                       SP500  USDRMB   SHINDEX   SZINDEX  USDINDEX  EURUSD  \\\n",
       "Date                                                                         \n",
       "2000-01-04 00:00:00  1399.42  8.2798  1406.371  3497.060  114.3583  1.0295   \n",
       "2000-01-05 00:00:00  1402.11  8.2799  1409.682  3486.285  114.6221  1.0316   \n",
       "2000-01-06 00:00:00  1403.45  8.2798  1463.942  3655.199  115.1688  1.0295   \n",
       "2000-01-07 00:00:00  1441.47  8.2797  1516.604  3828.040  114.9098  1.0280   \n",
       "2000-01-10 00:00:00  1457.60  8.2794  1545.112  3921.484  114.9799  1.0253   \n",
       "\n",
       "                       tmp_df  \n",
       "Date                           \n",
       "2000-01-04 00:00:00       NaN  \n",
       "2000-01-05 00:00:00       NaN  \n",
       "2000-01-06 00:00:00 -0.218224  \n",
       "2000-01-07 00:00:00  1.106715  \n",
       "2000-01-10 00:00:00  0.235592  "
      ]
     },
     "execution_count": 14,
     "metadata": {},
     "output_type": "execute_result"
    }
   ],
   "source": [
    "new_df['tmp_df']=tmp_df\n",
    "new_df.head()"
   ]
  },
  {
   "cell_type": "code",
   "execution_count": 15,
   "metadata": {},
   "outputs": [
    {
     "ename": "FileNotFoundError",
     "evalue": "[Errno 2] No such file or directory: 'yyfdataout/new_df.csv'",
     "output_type": "error",
     "traceback": [
      "\u001b[1;31m---------------------------------------------------------------------------\u001b[0m",
      "\u001b[1;31mFileNotFoundError\u001b[0m                         Traceback (most recent call last)",
      "\u001b[1;32m<ipython-input-15-a93383bfeed8>\u001b[0m in \u001b[0;36m<module>\u001b[1;34m()\u001b[0m\n\u001b[1;32m----> 1\u001b[1;33m \u001b[0mnew_df\u001b[0m\u001b[1;33m.\u001b[0m\u001b[0mto_csv\u001b[0m\u001b[1;33m(\u001b[0m\u001b[1;34m\"yyfdataout/new_df.csv\"\u001b[0m\u001b[1;33m,\u001b[0m\u001b[0mindex_label\u001b[0m\u001b[1;33m=\u001b[0m\u001b[1;34m'date'\u001b[0m\u001b[1;33m)\u001b[0m\u001b[1;33m\u001b[0m\u001b[0m\n\u001b[0m\u001b[0;32m      2\u001b[0m \u001b[0mnew_df\u001b[0m\u001b[1;33m.\u001b[0m\u001b[0mto_excel\u001b[0m\u001b[1;33m(\u001b[0m\u001b[1;34m\"yyfdataout/new_df.xls\"\u001b[0m\u001b[1;33m,\u001b[0m\u001b[0mindex_label\u001b[0m\u001b[1;33m=\u001b[0m\u001b[1;34m'date'\u001b[0m\u001b[1;33m)\u001b[0m\u001b[1;33m\u001b[0m\u001b[0m\n\u001b[0;32m      3\u001b[0m \u001b[0mnew_df\u001b[0m\u001b[1;33m.\u001b[0m\u001b[0mto_excel\u001b[0m\u001b[1;33m(\u001b[0m\u001b[1;34m\"yyfdataout/new_df.xlsx\"\u001b[0m\u001b[1;33m,\u001b[0m\u001b[0mindex_label\u001b[0m\u001b[1;33m=\u001b[0m\u001b[1;34m'date'\u001b[0m\u001b[1;33m)\u001b[0m\u001b[1;33m\u001b[0m\u001b[0m\n",
      "\u001b[1;32mC:\\Anaconda3\\lib\\site-packages\\pandas\\core\\frame.py\u001b[0m in \u001b[0;36mto_csv\u001b[1;34m(self, path_or_buf, sep, na_rep, float_format, columns, header, index, index_label, mode, encoding, compression, quoting, quotechar, line_terminator, chunksize, tupleize_cols, date_format, doublequote, escapechar, decimal)\u001b[0m\n\u001b[0;32m   1401\u001b[0m                                      \u001b[0mdoublequote\u001b[0m\u001b[1;33m=\u001b[0m\u001b[0mdoublequote\u001b[0m\u001b[1;33m,\u001b[0m\u001b[1;33m\u001b[0m\u001b[0m\n\u001b[0;32m   1402\u001b[0m                                      escapechar=escapechar, decimal=decimal)\n\u001b[1;32m-> 1403\u001b[1;33m         \u001b[0mformatter\u001b[0m\u001b[1;33m.\u001b[0m\u001b[0msave\u001b[0m\u001b[1;33m(\u001b[0m\u001b[1;33m)\u001b[0m\u001b[1;33m\u001b[0m\u001b[0m\n\u001b[0m\u001b[0;32m   1404\u001b[0m \u001b[1;33m\u001b[0m\u001b[0m\n\u001b[0;32m   1405\u001b[0m         \u001b[1;32mif\u001b[0m \u001b[0mpath_or_buf\u001b[0m \u001b[1;32mis\u001b[0m \u001b[1;32mNone\u001b[0m\u001b[1;33m:\u001b[0m\u001b[1;33m\u001b[0m\u001b[0m\n",
      "\u001b[1;32mC:\\Anaconda3\\lib\\site-packages\\pandas\\io\\formats\\format.py\u001b[0m in \u001b[0;36msave\u001b[1;34m(self)\u001b[0m\n\u001b[0;32m   1575\u001b[0m             f, handles = _get_handle(self.path_or_buf, self.mode,\n\u001b[0;32m   1576\u001b[0m                                      \u001b[0mencoding\u001b[0m\u001b[1;33m=\u001b[0m\u001b[0mself\u001b[0m\u001b[1;33m.\u001b[0m\u001b[0mencoding\u001b[0m\u001b[1;33m,\u001b[0m\u001b[1;33m\u001b[0m\u001b[0m\n\u001b[1;32m-> 1577\u001b[1;33m                                      compression=self.compression)\n\u001b[0m\u001b[0;32m   1578\u001b[0m             \u001b[0mclose\u001b[0m \u001b[1;33m=\u001b[0m \u001b[1;32mTrue\u001b[0m\u001b[1;33m\u001b[0m\u001b[0m\n\u001b[0;32m   1579\u001b[0m \u001b[1;33m\u001b[0m\u001b[0m\n",
      "\u001b[1;32mC:\\Anaconda3\\lib\\site-packages\\pandas\\io\\common.py\u001b[0m in \u001b[0;36m_get_handle\u001b[1;34m(path_or_buf, mode, encoding, compression, memory_map, is_text)\u001b[0m\n\u001b[0;32m    383\u001b[0m         \u001b[1;32melif\u001b[0m \u001b[0mis_text\u001b[0m\u001b[1;33m:\u001b[0m\u001b[1;33m\u001b[0m\u001b[0m\n\u001b[0;32m    384\u001b[0m             \u001b[1;31m# Python 3 and no explicit encoding\u001b[0m\u001b[1;33m\u001b[0m\u001b[1;33m\u001b[0m\u001b[0m\n\u001b[1;32m--> 385\u001b[1;33m             \u001b[0mf\u001b[0m \u001b[1;33m=\u001b[0m \u001b[0mopen\u001b[0m\u001b[1;33m(\u001b[0m\u001b[0mpath_or_buf\u001b[0m\u001b[1;33m,\u001b[0m \u001b[0mmode\u001b[0m\u001b[1;33m,\u001b[0m \u001b[0merrors\u001b[0m\u001b[1;33m=\u001b[0m\u001b[1;34m'replace'\u001b[0m\u001b[1;33m)\u001b[0m\u001b[1;33m\u001b[0m\u001b[0m\n\u001b[0m\u001b[0;32m    386\u001b[0m         \u001b[1;32melse\u001b[0m\u001b[1;33m:\u001b[0m\u001b[1;33m\u001b[0m\u001b[0m\n\u001b[0;32m    387\u001b[0m             \u001b[1;31m# Python 3 and binary mode\u001b[0m\u001b[1;33m\u001b[0m\u001b[1;33m\u001b[0m\u001b[0m\n",
      "\u001b[1;31mFileNotFoundError\u001b[0m: [Errno 2] No such file or directory: 'yyfdataout/new_df.csv'"
     ]
    }
   ],
   "source": [
    "new_df.to_csv(\"yyfdataout/new_df.csv\",index_label='date')\n",
    "new_df.to_excel(\"yyfdataout/new_df.xls\",index_label='date')\n",
    "new_df.to_excel(\"yyfdataout/new_df.xlsx\",index_label='date')"
   ]
  },
  {
   "cell_type": "code",
   "execution_count": null,
   "metadata": {
    "collapsed": true
   },
   "outputs": [],
   "source": []
  }
 ],
 "metadata": {
  "kernelspec": {
   "display_name": "Python [Anaconda3]",
   "language": "python",
   "name": "Python [Anaconda3]"
  },
  "language_info": {
   "codemirror_mode": {
    "name": "ipython",
    "version": 3
   },
   "file_extension": ".py",
   "mimetype": "text/x-python",
   "name": "python",
   "nbconvert_exporter": "python",
   "pygments_lexer": "ipython3",
   "version": "3.5.5"
  }
 },
 "nbformat": 4,
 "nbformat_minor": 1
}
